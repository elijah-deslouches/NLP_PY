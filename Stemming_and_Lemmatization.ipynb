{
  "nbformat": 4,
  "nbformat_minor": 0,
  "metadata": {
    "colab": {
      "provenance": [],
      "authorship_tag": "ABX9TyN0P6a6EvYFIrCeDXPuy3EC",
      "include_colab_link": true
    },
    "kernelspec": {
      "name": "python3",
      "display_name": "Python 3"
    },
    "language_info": {
      "name": "python"
    }
  },
  "cells": [
    {
      "cell_type": "markdown",
      "metadata": {
        "id": "view-in-github",
        "colab_type": "text"
      },
      "source": [
        "<a href=\"https://colab.research.google.com/github/elijah-deslouches/NLP_PY/blob/main/Stemming_and_Lemmatization.ipynb\" target=\"_parent\"><img src=\"https://colab.research.google.com/assets/colab-badge.svg\" alt=\"Open In Colab\"/></a>"
      ]
    },
    {
      "cell_type": "markdown",
      "source": [
        "# Difference bettween stemmers (porter vs snowball) -- Snowball works a little better"
      ],
      "metadata": {
        "id": "BXL1j_1cvQEh"
      }
    },
    {
      "cell_type": "code",
      "source": [
        "words = ['run', 'runner', 'running', 'ran', 'easily', 'fairly']"
      ],
      "metadata": {
        "id": "3fwn49MNucMN"
      },
      "execution_count": 3,
      "outputs": []
    },
    {
      "cell_type": "code",
      "source": [
        "import nltk"
      ],
      "metadata": {
        "id": "MRjwTYxYup_u"
      },
      "execution_count": 4,
      "outputs": []
    },
    {
      "cell_type": "code",
      "source": [
        "from nltk.stem.porter import PorterStemmer\n",
        "from nltk.stem.snowball import SnowballStemmer"
      ],
      "metadata": {
        "id": "msaVUIqcusCb"
      },
      "execution_count": 5,
      "outputs": []
    },
    {
      "cell_type": "code",
      "source": [
        "p_stemmer = PorterStemmer()\n",
        "s_stemmer = SnowballStemmer(language='english')"
      ],
      "metadata": {
        "id": "M3CXtsKSu07m"
      },
      "execution_count": 7,
      "outputs": []
    },
    {
      "cell_type": "code",
      "source": [
        "for word in words:\n",
        "    print(word + ' ------ ' + p_stemmer.stem(word))"
      ],
      "metadata": {
        "colab": {
          "base_uri": "https://localhost:8080/"
        },
        "id": "v1mXRUpCu9KD",
        "outputId": "ff81848e-d6a0-4720-adbe-a34a9eb9e4c7"
      },
      "execution_count": 9,
      "outputs": [
        {
          "output_type": "stream",
          "name": "stdout",
          "text": [
            "run ------ run\n",
            "runner ------ runner\n",
            "running ------ run\n",
            "ran ------ ran\n",
            "easily ------ easili\n",
            "fairly ------ fairli\n"
          ]
        }
      ]
    },
    {
      "cell_type": "code",
      "source": [
        "for word in words:\n",
        "    print(word + ' ------ ' + s_stemmer.stem(word))"
      ],
      "metadata": {
        "colab": {
          "base_uri": "https://localhost:8080/"
        },
        "id": "G-ijfI4hvIev",
        "outputId": "05873d4c-dd5d-4a79-9ca5-99c159d86545"
      },
      "execution_count": 10,
      "outputs": [
        {
          "output_type": "stream",
          "name": "stdout",
          "text": [
            "run ------ run\n",
            "runner ------ runner\n",
            "running ------ run\n",
            "ran ------ ran\n",
            "easily ------ easili\n",
            "fairly ------ fair\n"
          ]
        }
      ]
    },
    {
      "cell_type": "markdown",
      "source": [
        "## Lemmatization"
      ],
      "metadata": {
        "id": "ngqROLUivY0A"
      }
    },
    {
      "cell_type": "code",
      "source": [
        "import spacy\n",
        "nlp = spacy.load('en_core_web_sm') ##Small Spacy Library"
      ],
      "metadata": {
        "id": "MP1MLc1XvbT3"
      },
      "execution_count": 11,
      "outputs": []
    },
    {
      "cell_type": "code",
      "source": [
        "doc1 = nlp(\"The striped bats are hanging on their feet for best\")"
      ],
      "metadata": {
        "id": "wqGvpY6cvpOL"
      },
      "execution_count": 12,
      "outputs": []
    },
    {
      "cell_type": "code",
      "source": [
        "for token in doc1:\n",
        "    print(token.text, '\\t', token.lemma_)"
      ],
      "metadata": {
        "colab": {
          "base_uri": "https://localhost:8080/"
        },
        "id": "hAGDtIp1vwB5",
        "outputId": "3ff69293-65ea-4ba1-f17d-8d905b5593d1"
      },
      "execution_count": 13,
      "outputs": [
        {
          "output_type": "stream",
          "name": "stdout",
          "text": [
            "The \t the\n",
            "striped \t stripe\n",
            "bats \t bat\n",
            "are \t be\n",
            "hanging \t hang\n",
            "on \t on\n",
            "their \t their\n",
            "feet \t foot\n",
            "for \t for\n",
            "best \t good\n"
          ]
        }
      ]
    },
    {
      "cell_type": "code",
      "source": [
        "s1 = \"The striped bats are hanging on their feet for best\"\n",
        "for word in s1.split():\n",
        "    print(word + ' ------ ' + p_stemmer.stem(word))\n",
        "\n",
        "##    In case of lemmatization you get walkability, whereas it may change the\n",
        "##    words depending on the context of the sentance\n",
        "##    In stemming, the last few characters of a word are truncated / removed"
      ],
      "metadata": {
        "colab": {
          "base_uri": "https://localhost:8080/"
        },
        "id": "1Jwc1NJrwAyB",
        "outputId": "ead76e9b-3e54-4ff8-ba15-ae95295199d8"
      },
      "execution_count": 14,
      "outputs": [
        {
          "output_type": "stream",
          "name": "stdout",
          "text": [
            "The ------ the\n",
            "striped ------ stripe\n",
            "bats ------ bat\n",
            "are ------ are\n",
            "hanging ------ hang\n",
            "on ------ on\n",
            "their ------ their\n",
            "feet ------ feet\n",
            "for ------ for\n",
            "best ------ best\n"
          ]
        }
      ]
    }
  ]
}