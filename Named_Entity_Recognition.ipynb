{
  "nbformat": 4,
  "nbformat_minor": 0,
  "metadata": {
    "colab": {
      "provenance": [],
      "authorship_tag": "ABX9TyMhpcv1h4Cmsb4vsmHF7nDz",
      "include_colab_link": true
    },
    "kernelspec": {
      "name": "python3",
      "display_name": "Python 3"
    },
    "language_info": {
      "name": "python"
    }
  },
  "cells": [
    {
      "cell_type": "markdown",
      "metadata": {
        "id": "view-in-github",
        "colab_type": "text"
      },
      "source": [
        "<a href=\"https://colab.research.google.com/github/elijah-deslouches/NLP_PY/blob/main/Named_Entity_Recognition.ipynb\" target=\"_parent\"><img src=\"https://colab.research.google.com/assets/colab-badge.svg\" alt=\"Open In Colab\"/></a>"
      ]
    },
    {
      "cell_type": "markdown",
      "source": [
        "# Named Entity Recognition"
      ],
      "metadata": {
        "id": "2PGzCgWLTUxo"
      }
    },
    {
      "cell_type": "markdown",
      "source": [
        "## Refer to spacy doc on Named Entity Recognition\n",
        "### https://spacy.io/usage/linguistic-features#named-entities"
      ],
      "metadata": {
        "id": "OsY_Xa_STh9m"
      }
    },
    {
      "cell_type": "code",
      "execution_count": 1,
      "metadata": {
        "id": "Mb38tM4QTRsm"
      },
      "outputs": [],
      "source": [
        "s1 = \"Apple is looking at buying U.K. startup for $1 billion\"\n",
        "s2 = \"San Francisco considers banning sidewalk delivery robots\"\n",
        "s3 = \"Facebook is hiring a new vice president in U.S.\""
      ]
    },
    {
      "cell_type": "code",
      "source": [
        "import spacy\n",
        "nlp = spacy.load(name='en_core_web_sm')"
      ],
      "metadata": {
        "id": "1wAU3j4PT4Nr"
      },
      "execution_count": 13,
      "outputs": []
    },
    {
      "cell_type": "code",
      "source": [
        "doc1 = nlp(s1)\n",
        "for ent in doc1.ents:\n",
        "  print(ent.text, ent.label_, str(spacy.explain(ent.label)))"
      ],
      "metadata": {
        "colab": {
          "base_uri": "https://localhost:8080/"
        },
        "id": "jS4cQOpsUA9P",
        "outputId": "2f0b3ccb-8715-4865-9a01-662c05c6d4fc"
      },
      "execution_count": 15,
      "outputs": [
        {
          "output_type": "stream",
          "name": "stdout",
          "text": [
            "Apple ORG None\n",
            "U.K. GPE None\n",
            "$1 billion MONEY None\n"
          ]
        }
      ]
    },
    {
      "cell_type": "code",
      "source": [
        "doc2 = nlp(s2)\n",
        "for ent in doc1.ents:\n",
        "  print(ent.text, ent.label_, str(spacy.explain(ent.label)))"
      ],
      "metadata": {
        "colab": {
          "base_uri": "https://localhost:8080/"
        },
        "id": "l-Tvq2H2YejM",
        "outputId": "bd469844-ef09-4bc2-a171-dcabb9c6cd21"
      },
      "execution_count": 17,
      "outputs": [
        {
          "output_type": "stream",
          "name": "stdout",
          "text": [
            "Apple ORG None\n",
            "U.K. GPE None\n",
            "$1 billion MONEY None\n"
          ]
        }
      ]
    },
    {
      "cell_type": "code",
      "source": [
        "print(s3)\n",
        "doc3 = nlp(s3)\n",
        "for ent in doc1.ents:\n",
        "  print(ent.text, ent.label_, str(spacy.explain(ent.label)))"
      ],
      "metadata": {
        "colab": {
          "base_uri": "https://localhost:8080/"
        },
        "id": "DHfcaLR9Zgye",
        "outputId": "d3aba8a9-f199-4bb5-b19f-eaea88ad27bb"
      },
      "execution_count": 19,
      "outputs": [
        {
          "output_type": "stream",
          "name": "stdout",
          "text": [
            "Facebook is hiring a new vice president in U.S.\n",
            "Apple ORG None\n",
            "U.K. GPE None\n",
            "$1 billion MONEY None\n"
          ]
        }
      ]
    }
  ]
}