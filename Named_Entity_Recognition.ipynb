{
  "nbformat": 4,
  "nbformat_minor": 0,
  "metadata": {
    "colab": {
      "provenance": [],
      "authorship_tag": "ABX9TyOqAv9vWp3yRniB+3ExW8n0",
      "include_colab_link": true
    },
    "kernelspec": {
      "name": "python3",
      "display_name": "Python 3"
    },
    "language_info": {
      "name": "python"
    }
  },
  "cells": [
    {
      "cell_type": "markdown",
      "metadata": {
        "id": "view-in-github",
        "colab_type": "text"
      },
      "source": [
        "<a href=\"https://colab.research.google.com/github/elijah-deslouches/NLP_PY/blob/main/Named_Entity_Recognition.ipynb\" target=\"_parent\"><img src=\"https://colab.research.google.com/assets/colab-badge.svg\" alt=\"Open In Colab\"/></a>"
      ]
    },
    {
      "cell_type": "markdown",
      "source": [
        "# Named Entity Recognition"
      ],
      "metadata": {
        "id": "2PGzCgWLTUxo"
      }
    },
    {
      "cell_type": "markdown",
      "source": [
        "## Refer to spacy doc on Named Entity Recognition\n",
        "### https://spacy.io/usage/linguistic-features#named-entities"
      ],
      "metadata": {
        "id": "OsY_Xa_STh9m"
      }
    },
    {
      "cell_type": "code",
      "execution_count": 1,
      "metadata": {
        "id": "Mb38tM4QTRsm"
      },
      "outputs": [],
      "source": [
        "s1 = \"Apple is looking at buying U.K. startup for $1 billion\"\n",
        "s2 = \"San Francisco considers banning sidewalk delivery robots\"\n",
        "s3 = \"Facebook is hiring a new vice president in U.S.\""
      ]
    },
    {
      "cell_type": "code",
      "source": [
        "import spacy\n",
        "nlp = spacy.load(name='en_core_web_sm')"
      ],
      "metadata": {
        "id": "1wAU3j4PT4Nr"
      },
      "execution_count": 13,
      "outputs": []
    },
    {
      "cell_type": "code",
      "source": [
        "doc1 = nlp(s1)\n",
        "for ent in doc1.ents:\n",
        "  print(ent.text, ent.label_, str(spacy.explain(ent.label_)))"
      ],
      "metadata": {
        "colab": {
          "base_uri": "https://localhost:8080/"
        },
        "id": "jS4cQOpsUA9P",
        "outputId": "68dcdef4-f67e-4095-d129-0f18bc496597"
      },
      "execution_count": 33,
      "outputs": [
        {
          "output_type": "stream",
          "name": "stdout",
          "text": [
            "Apple ORG Companies, agencies, institutions, etc.\n",
            "U.K. GPE Countries, cities, states\n",
            "$1 billion MONEY Monetary values, including unit\n"
          ]
        }
      ]
    },
    {
      "cell_type": "code",
      "source": [
        "doc2 = nlp(s2)\n",
        "for ent in doc2.ents:\n",
        "  print(ent.text, ent.label_, str(spacy.explain(ent.label_)))"
      ],
      "metadata": {
        "colab": {
          "base_uri": "https://localhost:8080/"
        },
        "id": "l-Tvq2H2YejM",
        "outputId": "c60e9fae-df0f-4388-81a3-154e4734a49f"
      },
      "execution_count": 34,
      "outputs": [
        {
          "output_type": "stream",
          "name": "stdout",
          "text": [
            "San Francisco GPE Countries, cities, states\n"
          ]
        }
      ]
    },
    {
      "cell_type": "code",
      "source": [
        "print(s3)\n",
        "doc3 = nlp(s3)\n",
        "for ent in doc3.ents:\n",
        "  print(ent.text, ent.label_, str(spacy.explain(ent.label_)))"
      ],
      "metadata": {
        "colab": {
          "base_uri": "https://localhost:8080/"
        },
        "id": "DHfcaLR9Zgye",
        "outputId": "4795b14e-1416-4f6a-9038-40086d8b3209"
      },
      "execution_count": 35,
      "outputs": [
        {
          "output_type": "stream",
          "name": "stdout",
          "text": [
            "Facebook is hiring a new vice president in U.S.\n",
            "U.S. GPE Countries, cities, states\n"
          ]
        }
      ]
    },
    {
      "cell_type": "code",
      "source": [
        "ORG = doc3.vocab.strings['ORG']"
      ],
      "metadata": {
        "id": "n20cWLobaUwI"
      },
      "execution_count": 36,
      "outputs": []
    },
    {
      "cell_type": "code",
      "source": [
        "from spacy.tokens import Span\n",
        "new_ent = Span(doc3, 0, 1, label = ORG)"
      ],
      "metadata": {
        "id": "tnn801GVaVCh"
      },
      "execution_count": 37,
      "outputs": []
    },
    {
      "cell_type": "code",
      "source": [
        "doc3.ents = list(doc3.ents)  + [new_ent]"
      ],
      "metadata": {
        "id": "D2nh3gTLaGvw"
      },
      "execution_count": 38,
      "outputs": []
    },
    {
      "cell_type": "code",
      "source": [
        "doc3.ents"
      ],
      "metadata": {
        "colab": {
          "base_uri": "https://localhost:8080/"
        },
        "id": "yCxzzNWdax6C",
        "outputId": "43003608-75dd-4a14-f250-e3adcbb9a84b"
      },
      "execution_count": 39,
      "outputs": [
        {
          "output_type": "execute_result",
          "data": {
            "text/plain": [
              "(Facebook, U.S.)"
            ]
          },
          "metadata": {},
          "execution_count": 39
        }
      ]
    },
    {
      "cell_type": "code",
      "source": [
        "print(s3)\n",
        "for ent in doc3.ents:\n",
        "  print(ent.text, ent.label_, str(spacy.explain(ent.label_)))"
      ],
      "metadata": {
        "colab": {
          "base_uri": "https://localhost:8080/"
        },
        "id": "qyABnAlCa2RX",
        "outputId": "d9517c4f-2fdf-4b66-b9a0-1ff3c55bfc83"
      },
      "execution_count": 42,
      "outputs": [
        {
          "output_type": "stream",
          "name": "stdout",
          "text": [
            "Facebook is hiring a new vice president in U.S.\n",
            "Facebook ORG Companies, agencies, institutions, etc.\n",
            "U.S. GPE Countries, cities, states\n"
          ]
        }
      ]
    },
    {
      "cell_type": "code",
      "source": [
        "from spacy import displacy"
      ],
      "metadata": {
        "id": "VyKKpKRUbeeM"
      },
      "execution_count": 43,
      "outputs": []
    },
    {
      "cell_type": "code",
      "source": [
        "## Options to display only specific entities\n",
        "displacy.render(docs = doc1, style = 'ent', options = {'ents': ['ORG']}, jupyter= True)"
      ],
      "metadata": {
        "colab": {
          "base_uri": "https://localhost:8080/",
          "height": 52
        },
        "id": "3eazafV-bi7p",
        "outputId": "db15d8e1-d2a7-4c6a-db7f-52a0d59aad75"
      },
      "execution_count": 45,
      "outputs": [
        {
          "output_type": "display_data",
          "data": {
            "text/plain": [
              "<IPython.core.display.HTML object>"
            ],
            "text/html": [
              "<span class=\"tex2jax_ignore\"><div class=\"entities\" style=\"line-height: 2.5; direction: ltr\">\n",
              "<mark class=\"entity\" style=\"background: #7aecec; padding: 0.45em 0.6em; margin: 0 0.25em; line-height: 1; border-radius: 0.35em;\">\n",
              "    Apple\n",
              "    <span style=\"font-size: 0.8em; font-weight: bold; line-height: 1; border-radius: 0.35em; vertical-align: middle; margin-left: 0.5rem\">ORG</span>\n",
              "</mark>\n",
              " is looking at buying U.K. startup for $1 billion</div></span>"
            ]
          },
          "metadata": {}
        }
      ]
    }
  ]
}