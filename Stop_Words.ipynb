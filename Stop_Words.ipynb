{
  "nbformat": 4,
  "nbformat_minor": 0,
  "metadata": {
    "colab": {
      "provenance": [],
      "authorship_tag": "ABX9TyP92bBwKA+qtVR51zaAogM3",
      "include_colab_link": true
    },
    "kernelspec": {
      "name": "python3",
      "display_name": "Python 3"
    },
    "language_info": {
      "name": "python"
    }
  },
  "cells": [
    {
      "cell_type": "markdown",
      "metadata": {
        "id": "view-in-github",
        "colab_type": "text"
      },
      "source": [
        "<a href=\"https://colab.research.google.com/github/elijah-deslouches/NLP_PY/blob/main/Stop_Words.ipynb\" target=\"_parent\"><img src=\"https://colab.research.google.com/assets/colab-badge.svg\" alt=\"Open In Colab\"/></a>"
      ]
    },
    {
      "cell_type": "markdown",
      "source": [
        "a   an the always"
      ],
      "metadata": {
        "id": "HLfXngi_w5y_"
      }
    },
    {
      "cell_type": "code",
      "source": [
        "import spacy\n",
        "nlp = spacy.load('en_core_web_sm')\n",
        "#   In this NLP there are already a number of stop words loaded"
      ],
      "metadata": {
        "id": "fHM4sXmxxAAs"
      },
      "execution_count": 1,
      "outputs": []
    },
    {
      "cell_type": "code",
      "source": [
        "print(nlp.Defaults.stop_words)"
      ],
      "metadata": {
        "colab": {
          "base_uri": "https://localhost:8080/"
        },
        "id": "k1qm1UalxWKt",
        "outputId": "d2f2d603-4aad-458b-ea24-bcad8f033e79"
      },
      "execution_count": 2,
      "outputs": [
        {
          "output_type": "stream",
          "name": "stdout",
          "text": [
            "{'before', 'either', '‘s', 'whither', 'beforehand', 'most', 'someone', '’s', 'into', 'say', 'without', 'to', 'which', 'six', 'alone', 'somewhere', 'together', 'her', '’ve', 'ours', 'therein', 'hereafter', 'afterwards', 'well', 'myself', 'hers', 'elsewhere', 'am', 'first', 'call', 'just', 'along', 'amount', 'off', 'we', 'them', 'whole', 'except', 'such', 'whom', 'one', 'through', 'fifty', 'why', 'do', 'twenty', 'nothing', 'meanwhile', 'thereupon', 'whether', 'least', 'does', 'than', 'ever', 'two', 'very', 'our', 'also', 'against', '‘m', 'hereby', 'may', 'behind', 'itself', 'been', 'throughout', 'else', 'that', 'be', 'none', 'could', '‘ll', 'latterly', 'much', 'are', 'anywhere', 'over', 'forty', 'former', 'whereas', 'bottom', 'several', 'seems', 'up', 'has', \"n't\", 'those', 'mostly', 'from', 'due', 'upon', 'in', 'everywhere', 'used', 'using', 'anyway', 'then', '’re', 'empty', 'both', \"'ve\", 'might', 'everyone', 'namely', 'indeed', 'can', 'now', 'seeming', 'get', 'and', 'few', 'noone', 'rather', 'take', 'sometime', 'who', 'becomes', 'done', 'towards', 'whereafter', \"'d\", 'quite', 'others', 'being', 'unless', 'seem', \"'s\", 'last', 'own', 'serious', \"'ll\", 'anyone', 'so', 'on', 'per', 'fifteen', 'part', 'these', \"'m\", 'again', 'herein', 'it', 'after', 'anyhow', 'wherein', 'various', 'would', 'you', 'back', 'more', 'via', 'this', 'while', 'nine', 'will', 'latter', 'keep', 'among', 'other', 'they', 'show', 'still', 'whenever', 'beside', 'toward', 'your', 'put', 'did', 'must', 'wherever', 'become', 'give', 'four', 'see', 'my', 'ourselves', 'himself', 'each', 'for', 'of', 'three', 'across', 'formerly', 'too', 'themselves', 'something', 'full', 'whereby', 'make', 'n‘t', 'their', 'move', 'became', 'therefore', 'out', 'the', 'becoming', 'a', 'when', 'neither', 'sixty', 'though', 'above', 'nowhere', 'please', 'because', 'somehow', 'regarding', 'whoever', 'how', 'i', 'beyond', 'between', 'whereupon', 'side', 'any', 'yours', 'where', 'but', 'eleven', 'whence', 'hereupon', 'thereafter', 'during', 'around', 'below', 'if', 'she', 'although', 'another', 'already', 'there', 'since', 'whose', 'some', 'nobody', 'moreover', 'thru', 'hundred', 'here', 'not', 'an', 'never', '’d', 'mine', 'under', '‘d', 'its', 'front', 'almost', 'thence', 'whatever', 'with', 'twelve', 'ten', 'was', 'me', 'often', 'or', 'further', 'thereby', 'until', 'nevertheless', 'everything', '’m', 'go', 'his', 'otherwise', 'eight', 'him', 'same', 'about', 'thus', 'always', 'sometimes', 'however', '‘re', 'every', 'at', 'herself', 're', 'onto', 'once', 'many', 'even', 'cannot', 'besides', 'hence', 'no', 'by', 'is', 'nor', 'yourself', 'next', 'ca', '’ll', 'made', 'within', 'had', 'top', 'anything', '‘ve', 'yourselves', 'five', 'have', 'as', 'us', 'were', 'really', 'doing', 'down', 'should', 'third', \"'re\", 'yet', 'seemed', 'name', 'perhaps', 'all', 'only', 'amongst', 'he', 'less', 'enough', 'n’t', 'what'}\n"
          ]
        }
      ]
    },
    {
      "cell_type": "code",
      "execution_count": 3,
      "metadata": {
        "colab": {
          "base_uri": "https://localhost:8080/"
        },
        "id": "M4yiWzT0w4M-",
        "outputId": "dd9a958f-8947-4c66-9894-30af867c5477"
      },
      "outputs": [
        {
          "output_type": "execute_result",
          "data": {
            "text/plain": [
              "326"
            ]
          },
          "metadata": {},
          "execution_count": 3
        }
      ],
      "source": [
        "len(nlp.Defaults.stop_words)"
      ]
    },
    {
      "cell_type": "code",
      "source": [
        "nlp.vocab['always'].is_stop"
      ],
      "metadata": {
        "colab": {
          "base_uri": "https://localhost:8080/"
        },
        "id": "AdMG82EFxlBb",
        "outputId": "4b0a2c83-910a-4293-9498-78f18f707b8d"
      },
      "execution_count": 4,
      "outputs": [
        {
          "output_type": "execute_result",
          "data": {
            "text/plain": [
              "True"
            ]
          },
          "metadata": {},
          "execution_count": 4
        }
      ]
    },
    {
      "cell_type": "code",
      "source": [
        "nlp.vocab['finance'].is_stop"
      ],
      "metadata": {
        "colab": {
          "base_uri": "https://localhost:8080/"
        },
        "id": "tUMUjh-zxqDK",
        "outputId": "407749e3-d211-429b-b83a-22ff077d83ec"
      },
      "execution_count": 5,
      "outputs": [
        {
          "output_type": "execute_result",
          "data": {
            "text/plain": [
              "False"
            ]
          },
          "metadata": {},
          "execution_count": 5
        }
      ]
    },
    {
      "cell_type": "code",
      "source": [
        "nlp.vocab['asdf'].is_stop"
      ],
      "metadata": {
        "colab": {
          "base_uri": "https://localhost:8080/"
        },
        "id": "Prbh5OtJxvN_",
        "outputId": "3102904d-6914-49e8-8bf0-d875dae9abb8"
      },
      "execution_count": 6,
      "outputs": [
        {
          "output_type": "execute_result",
          "data": {
            "text/plain": [
              "False"
            ]
          },
          "metadata": {},
          "execution_count": 6
        }
      ]
    },
    {
      "cell_type": "code",
      "source": [
        "nlp.Defaults.stop_words.add('asdf')"
      ],
      "metadata": {
        "id": "PYJwBl2Exxlh"
      },
      "execution_count": 8,
      "outputs": []
    },
    {
      "cell_type": "code",
      "source": [
        "nlp.vocab['asdf'].is_stop = True"
      ],
      "metadata": {
        "id": "aXPljudCx5xm"
      },
      "execution_count": 11,
      "outputs": []
    },
    {
      "cell_type": "code",
      "source": [
        "nlp.vocab['asdf'].is_stop"
      ],
      "metadata": {
        "colab": {
          "base_uri": "https://localhost:8080/"
        },
        "id": "Mrg5apa7yGmg",
        "outputId": "df23e2b2-596f-4987-879f-c73e24ec0881"
      },
      "execution_count": 12,
      "outputs": [
        {
          "output_type": "execute_result",
          "data": {
            "text/plain": [
              "True"
            ]
          },
          "metadata": {},
          "execution_count": 12
        }
      ]
    },
    {
      "cell_type": "code",
      "source": [
        "len(nlp.Defaults.stop_words)"
      ],
      "metadata": {
        "colab": {
          "base_uri": "https://localhost:8080/"
        },
        "id": "PAynaKU8yIck",
        "outputId": "fdaef9d4-09f9-4fb8-94f2-204218f8e7dd"
      },
      "execution_count": 13,
      "outputs": [
        {
          "output_type": "execute_result",
          "data": {
            "text/plain": [
              "327"
            ]
          },
          "metadata": {},
          "execution_count": 13
        }
      ]
    },
    {
      "cell_type": "code",
      "source": [
        "nlp.vocab['no'].is_stop = False"
      ],
      "metadata": {
        "id": "CYw-BRV0yJY8"
      },
      "execution_count": 15,
      "outputs": []
    },
    {
      "cell_type": "code",
      "source": [
        "print(nlp.Defaults.stop_words)"
      ],
      "metadata": {
        "colab": {
          "base_uri": "https://localhost:8080/"
        },
        "id": "3-hduiMwyTej",
        "outputId": "32c2e335-133f-4a62-d962-d41ab4b4ec31"
      },
      "execution_count": 16,
      "outputs": [
        {
          "output_type": "stream",
          "name": "stdout",
          "text": [
            "{'before', 'either', '‘s', 'whither', 'beforehand', 'most', 'someone', '’s', 'into', 'say', 'without', 'to', 'which', 'six', 'alone', 'somewhere', 'together', 'her', '’ve', 'ours', 'therein', 'hereafter', 'afterwards', 'well', 'myself', 'hers', 'elsewhere', 'am', 'first', 'call', 'just', 'along', 'amount', 'off', 'we', 'them', 'whole', 'except', 'such', 'whom', 'one', 'through', 'fifty', 'why', 'do', 'twenty', 'nothing', 'meanwhile', 'thereupon', 'whether', 'least', 'does', 'than', 'ever', 'two', 'very', 'our', 'also', 'against', '‘m', 'hereby', 'may', 'behind', 'itself', 'been', 'throughout', 'else', 'that', 'be', 'none', 'could', '‘ll', 'latterly', 'much', 'are', 'anywhere', 'over', 'forty', 'former', 'whereas', 'bottom', 'several', 'seems', 'up', 'has', \"n't\", 'those', 'mostly', 'from', 'due', 'upon', 'in', 'everywhere', 'used', 'using', 'anyway', 'then', '’re', 'empty', 'both', \"'ve\", 'might', 'everyone', 'namely', 'indeed', 'can', 'now', 'seeming', 'get', 'and', 'few', 'noone', 'rather', 'take', 'sometime', 'who', 'becomes', 'done', 'towards', 'whereafter', \"'d\", 'quite', 'others', 'being', 'unless', 'seem', \"'s\", 'last', 'own', 'serious', \"'ll\", 'anyone', 'so', 'on', 'per', 'fifteen', 'part', 'these', \"'m\", 'again', 'herein', 'it', 'after', 'anyhow', 'wherein', 'various', 'would', 'you', 'back', 'more', 'via', 'this', 'while', 'nine', 'will', 'latter', 'keep', 'among', 'other', 'they', 'show', 'still', 'asdf', 'whenever', 'beside', 'toward', 'your', 'put', 'did', 'must', 'wherever', 'become', 'give', 'four', 'see', 'my', 'ourselves', 'himself', 'each', 'for', 'of', 'three', 'across', 'formerly', 'too', 'themselves', 'something', 'full', 'whereby', 'make', 'n‘t', 'their', 'move', 'became', 'therefore', 'out', 'the', 'becoming', 'a', 'when', 'neither', 'sixty', 'though', 'above', 'nowhere', 'please', 'because', 'somehow', 'regarding', 'whoever', 'how', 'i', 'beyond', 'between', 'whereupon', 'side', 'any', 'yours', 'where', 'but', 'eleven', 'whence', 'hereupon', 'thereafter', 'during', 'around', 'below', 'if', 'she', 'although', 'another', 'already', 'there', 'since', 'whose', 'some', 'nobody', 'moreover', 'thru', 'hundred', 'here', 'not', 'an', 'never', '’d', 'mine', 'under', '‘d', 'its', 'front', 'almost', 'thence', 'whatever', 'with', 'twelve', 'ten', 'was', 'me', 'often', 'or', 'further', 'thereby', 'until', 'nevertheless', 'everything', '’m', 'go', 'his', 'otherwise', 'eight', 'him', 'same', 'about', 'thus', 'always', 'sometimes', 'however', '‘re', 'every', 'at', 'herself', 're', 'onto', 'once', 'many', 'even', 'cannot', 'besides', 'hence', 'no', 'by', 'is', 'nor', 'yourself', 'next', 'ca', '’ll', 'made', 'within', 'had', 'top', 'anything', '‘ve', 'yourselves', 'five', 'have', 'as', 'us', 'were', 'really', 'doing', 'down', 'should', 'third', \"'re\", 'yet', 'seemed', 'name', 'perhaps', 'all', 'only', 'amongst', 'he', 'less', 'enough', 'n’t', 'what'}\n"
          ]
        }
      ]
    },
    {
      "cell_type": "code",
      "source": [
        "nlp.Defaults.stop_words.remove('no')"
      ],
      "metadata": {
        "id": "OssT8Ej2yX1G"
      },
      "execution_count": 17,
      "outputs": []
    },
    {
      "cell_type": "code",
      "source": [
        "nlp.vocab['no'].is_stop"
      ],
      "metadata": {
        "colab": {
          "base_uri": "https://localhost:8080/"
        },
        "id": "D3Zc4ICjyaor",
        "outputId": "b39a75d0-1ab1-460c-ddc7-4fde9f822b71"
      },
      "execution_count": 18,
      "outputs": [
        {
          "output_type": "execute_result",
          "data": {
            "text/plain": [
              "False"
            ]
          },
          "metadata": {},
          "execution_count": 18
        }
      ]
    }
  ]
}