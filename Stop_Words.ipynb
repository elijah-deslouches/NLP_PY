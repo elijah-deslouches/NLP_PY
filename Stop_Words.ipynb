{
  "nbformat": 4,
  "nbformat_minor": 0,
  "metadata": {
    "colab": {
      "provenance": [],
      "authorship_tag": "ABX9TyMvHNg/gz0FyRAUhF9d97GZ",
      "include_colab_link": true
    },
    "kernelspec": {
      "name": "python3",
      "display_name": "Python 3"
    },
    "language_info": {
      "name": "python"
    }
  },
  "cells": [
    {
      "cell_type": "markdown",
      "metadata": {
        "id": "view-in-github",
        "colab_type": "text"
      },
      "source": [
        "<a href=\"https://colab.research.google.com/github/elijah-deslouches/NLP_PY/blob/main/Stop_Words.ipynb\" target=\"_parent\"><img src=\"https://colab.research.google.com/assets/colab-badge.svg\" alt=\"Open In Colab\"/></a>"
      ]
    },
    {
      "cell_type": "markdown",
      "source": [
        "a   an the always"
      ],
      "metadata": {
        "id": "HLfXngi_w5y_"
      }
    },
    {
      "cell_type": "code",
      "source": [
        "import spacy\n",
        "nlp = spacy.load('en_core_web_sm')\n",
        "#   In this NLP there are already a number of stop words loaded"
      ],
      "metadata": {
        "id": "fHM4sXmxxAAs"
      },
      "execution_count": 1,
      "outputs": []
    },
    {
      "cell_type": "code",
      "source": [
        "print(nlp.Defaults.stop_words)"
      ],
      "metadata": {
        "colab": {
          "base_uri": "https://localhost:8080/"
        },
        "id": "k1qm1UalxWKt",
        "outputId": "d2f2d603-4aad-458b-ea24-bcad8f033e79"
      },
      "execution_count": 2,
      "outputs": [
        {
          "output_type": "stream",
          "name": "stdout",
          "text": [
            "{'before', 'either', '‘s', 'whither', 'beforehand', 'most', 'someone', '’s', 'into', 'say', 'without', 'to', 'which', 'six', 'alone', 'somewhere', 'together', 'her', '’ve', 'ours', 'therein', 'hereafter', 'afterwards', 'well', 'myself', 'hers', 'elsewhere', 'am', 'first', 'call', 'just', 'along', 'amount', 'off', 'we', 'them', 'whole', 'except', 'such', 'whom', 'one', 'through', 'fifty', 'why', 'do', 'twenty', 'nothing', 'meanwhile', 'thereupon', 'whether', 'least', 'does', 'than', 'ever', 'two', 'very', 'our', 'also', 'against', '‘m', 'hereby', 'may', 'behind', 'itself', 'been', 'throughout', 'else', 'that', 'be', 'none', 'could', '‘ll', 'latterly', 'much', 'are', 'anywhere', 'over', 'forty', 'former', 'whereas', 'bottom', 'several', 'seems', 'up', 'has', \"n't\", 'those', 'mostly', 'from', 'due', 'upon', 'in', 'everywhere', 'used', 'using', 'anyway', 'then', '’re', 'empty', 'both', \"'ve\", 'might', 'everyone', 'namely', 'indeed', 'can', 'now', 'seeming', 'get', 'and', 'few', 'noone', 'rather', 'take', 'sometime', 'who', 'becomes', 'done', 'towards', 'whereafter', \"'d\", 'quite', 'others', 'being', 'unless', 'seem', \"'s\", 'last', 'own', 'serious', \"'ll\", 'anyone', 'so', 'on', 'per', 'fifteen', 'part', 'these', \"'m\", 'again', 'herein', 'it', 'after', 'anyhow', 'wherein', 'various', 'would', 'you', 'back', 'more', 'via', 'this', 'while', 'nine', 'will', 'latter', 'keep', 'among', 'other', 'they', 'show', 'still', 'whenever', 'beside', 'toward', 'your', 'put', 'did', 'must', 'wherever', 'become', 'give', 'four', 'see', 'my', 'ourselves', 'himself', 'each', 'for', 'of', 'three', 'across', 'formerly', 'too', 'themselves', 'something', 'full', 'whereby', 'make', 'n‘t', 'their', 'move', 'became', 'therefore', 'out', 'the', 'becoming', 'a', 'when', 'neither', 'sixty', 'though', 'above', 'nowhere', 'please', 'because', 'somehow', 'regarding', 'whoever', 'how', 'i', 'beyond', 'between', 'whereupon', 'side', 'any', 'yours', 'where', 'but', 'eleven', 'whence', 'hereupon', 'thereafter', 'during', 'around', 'below', 'if', 'she', 'although', 'another', 'already', 'there', 'since', 'whose', 'some', 'nobody', 'moreover', 'thru', 'hundred', 'here', 'not', 'an', 'never', '’d', 'mine', 'under', '‘d', 'its', 'front', 'almost', 'thence', 'whatever', 'with', 'twelve', 'ten', 'was', 'me', 'often', 'or', 'further', 'thereby', 'until', 'nevertheless', 'everything', '’m', 'go', 'his', 'otherwise', 'eight', 'him', 'same', 'about', 'thus', 'always', 'sometimes', 'however', '‘re', 'every', 'at', 'herself', 're', 'onto', 'once', 'many', 'even', 'cannot', 'besides', 'hence', 'no', 'by', 'is', 'nor', 'yourself', 'next', 'ca', '’ll', 'made', 'within', 'had', 'top', 'anything', '‘ve', 'yourselves', 'five', 'have', 'as', 'us', 'were', 'really', 'doing', 'down', 'should', 'third', \"'re\", 'yet', 'seemed', 'name', 'perhaps', 'all', 'only', 'amongst', 'he', 'less', 'enough', 'n’t', 'what'}\n"
          ]
        }
      ]
    },
    {
      "cell_type": "code",
      "execution_count": null,
      "metadata": {
        "id": "M4yiWzT0w4M-"
      },
      "outputs": [],
      "source": []
    }
  ]
}