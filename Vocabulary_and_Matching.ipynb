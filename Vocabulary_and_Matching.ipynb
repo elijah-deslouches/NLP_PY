{
  "nbformat": 4,
  "nbformat_minor": 0,
  "metadata": {
    "colab": {
      "provenance": [],
      "authorship_tag": "ABX9TyMvxRpyv+1ZHH6wNLfut/Cj",
      "include_colab_link": true
    },
    "kernelspec": {
      "name": "python3",
      "display_name": "Python 3"
    },
    "language_info": {
      "name": "python"
    }
  },
  "cells": [
    {
      "cell_type": "markdown",
      "metadata": {
        "id": "view-in-github",
        "colab_type": "text"
      },
      "source": [
        "<a href=\"https://colab.research.google.com/github/elijah-deslouches/NLP_PY/blob/main/Vocabulary_and_Matching.ipynb\" target=\"_parent\"><img src=\"https://colab.research.google.com/assets/colab-badge.svg\" alt=\"Open In Colab\"/></a>"
      ]
    },
    {
      "cell_type": "markdown",
      "source": [
        "# 1) Rule-Based Matching"
      ],
      "metadata": {
        "id": "kx5kgorvyq9F"
      }
    },
    {
      "cell_type": "code",
      "execution_count": 1,
      "metadata": {
        "id": "_usQkap3ymLc"
      },
      "outputs": [],
      "source": [
        "import spacy\n",
        "nlp = spacy.load('en_core_web_sm')"
      ]
    },
    {
      "cell_type": "code",
      "source": [
        "## Import the Matcher library\n",
        "from spacy.matcher import Matcher\n",
        "matcher = Matcher(nlp.vocab)  #  created matcher object and pass nlp.vocab\n",
        "\n",
        "#  Here matcher is an object that pairs to current Vocab object\n",
        "#  We can add and remove specific named matchers to matcher as needed"
      ],
      "metadata": {
        "id": "QAsbWHNY0PxV"
      },
      "execution_count": 2,
      "outputs": []
    },
    {
      "cell_type": "markdown",
      "source": [
        "# Creating Patterns"
      ],
      "metadata": {
        "id": "GzcQ-QH12qYg"
      }
    },
    {
      "cell_type": "code",
      "source": [
        "#  create a list, and inside that list add series of dictionaries\n",
        "\n",
        "#  Hello World can appear in the following ways,\n",
        "#  1)  Hello World   hello world Hello WORLD\n",
        "#  2)  Hello-World\n",
        "\n",
        "pattern_1 = [{'LOWER': 'hello'}, {'LOWER': 'world'}]\n",
        "pattern_2 = [{'LOWER': 'hello'}, {'IS_PUNCT': True}, {'LOWER': 'world'}]\n",
        "\n",
        "#  'LOWER',  'IS_PUNCT' are the attributes\n",
        "#  they have to be written in that way only"
      ],
      "metadata": {
        "id": "dzaT_pcT0mSB"
      },
      "execution_count": 3,
      "outputs": []
    },
    {
      "cell_type": "code",
      "source": [
        "# Add patterns to matcher object\n",
        "\n",
        "# Add a match rule to matcher, A match rule consists of,\n",
        "# 1) An ID key\n",
        "# 2) an on_match callback\n",
        "# 3) one or more patterns\n",
        "\n",
        "matcher.add('Hello World', None, pattern_1, pattern_2)"
      ],
      "metadata": {
        "colab": {
          "base_uri": "https://localhost:8080/",
          "height": 245
        },
        "id": "iDgeFkkK3tIg",
        "outputId": "79d50fcd-9fa2-4892-e642-bbac185ad91c"
      },
      "execution_count": 13,
      "outputs": [
        {
          "output_type": "error",
          "ename": "TypeError",
          "evalue": "ignored",
          "traceback": [
            "\u001b[0;31m---------------------------------------------------------------------------\u001b[0m",
            "\u001b[0;31mTypeError\u001b[0m                                 Traceback (most recent call last)",
            "\u001b[0;32m<ipython-input-13-983410ebb684>\u001b[0m in \u001b[0;36m<cell line: 8>\u001b[0;34m()\u001b[0m\n\u001b[1;32m      6\u001b[0m \u001b[0;31m# 3) one or more patterns\u001b[0m\u001b[0;34m\u001b[0m\u001b[0;34m\u001b[0m\u001b[0m\n\u001b[1;32m      7\u001b[0m \u001b[0;34m\u001b[0m\u001b[0m\n\u001b[0;32m----> 8\u001b[0;31m \u001b[0mmatcher\u001b[0m\u001b[0;34m.\u001b[0m\u001b[0madd\u001b[0m\u001b[0;34m(\u001b[0m\u001b[0;34m'Hello World'\u001b[0m\u001b[0;34m,\u001b[0m \u001b[0;32mNone\u001b[0m\u001b[0;34m,\u001b[0m \u001b[0mpattern_1\u001b[0m\u001b[0;34m,\u001b[0m \u001b[0mpattern_2\u001b[0m\u001b[0;34m)\u001b[0m\u001b[0;34m\u001b[0m\u001b[0;34m\u001b[0m\u001b[0m\n\u001b[0m",
            "\u001b[0;32m/usr/local/lib/python3.10/dist-packages/spacy/matcher/matcher.pyx\u001b[0m in \u001b[0;36mspacy.matcher.matcher.Matcher.add\u001b[0;34m()\u001b[0m\n",
            "\u001b[0;31mTypeError\u001b[0m: add() takes exactly 2 positional arguments (4 given)"
          ]
        }
      ]
    },
    {
      "cell_type": "code",
      "source": [
        "#  Add patterns to matcher object\n",
        "\n",
        "#  Add a match rule to matcher, A match rule consists of,\n",
        "#  1)  An ID key\n",
        "#  2)  an on_match callback\n",
        "#  3)  one or more patterns\n",
        "\n",
        "matcher.add('Hello World', [pattern_1, pattern_2], on_match=None)\n"
      ],
      "metadata": {
        "id": "tid_wS3W1XNi"
      },
      "execution_count": 12,
      "outputs": []
    },
    {
      "cell_type": "code",
      "source": [
        "#  create a document\n",
        "\n",
        "doc = nlp(\" 'Hello World' are the first two printed words for Hello WORLD most of the programmers, printing 'Hello-World' is most common for beginners\")"
      ],
      "metadata": {
        "id": "1VChCEBX4L41"
      },
      "execution_count": 14,
      "outputs": []
    },
    {
      "cell_type": "code",
      "source": [
        "doc"
      ],
      "metadata": {
        "colab": {
          "base_uri": "https://localhost:8080/",
          "height": 0
        },
        "id": "8oQ34kmB4bPB",
        "outputId": "cbce05d3-9af7-4ee0-e3d9-b29c34b1d0a3"
      },
      "execution_count": 15,
      "outputs": [
        {
          "output_type": "execute_result",
          "data": {
            "text/plain": [
              " 'Hello World' are the first two printed words for Hello WORLD most of the programmers, printing 'Hello World' is most common for beginners"
            ]
          },
          "metadata": {},
          "execution_count": 15
        }
      ]
    },
    {
      "cell_type": "markdown",
      "source": [
        "# Finding the matches"
      ],
      "metadata": {
        "id": "7NR2A6QV4isi"
      }
    },
    {
      "cell_type": "code",
      "source": [
        "find_matches = matcher(doc) # passing doc to matcher object and store this in a variable\n",
        "print(find_matches)\n",
        "\n",
        "# it returns output list of tuples\n",
        "# string ID, index start and index end"
      ],
      "metadata": {
        "colab": {
          "base_uri": "https://localhost:8080/",
          "height": 0
        },
        "id": "Hwn_TPVJ4kqa",
        "outputId": "9f17b507-0880-4dad-a443-0d5f67fb9241"
      },
      "execution_count": 17,
      "outputs": [
        {
          "output_type": "stream",
          "name": "stdout",
          "text": [
            "[(8585552006568828647, 2, 4), (8585552006568828647, 12, 14), (8585552006568828647, 21, 23)]\n"
          ]
        }
      ]
    },
    {
      "cell_type": "code",
      "source": [
        "for match_id, start, end in find_matches:\n",
        "    string_id = nlp.vocab.strings[match_id]  # get string representation\n",
        "    span = doc[start:end]\n",
        "    print(match_id, string_id, start, end, span.text)"
      ],
      "metadata": {
        "colab": {
          "base_uri": "https://localhost:8080/",
          "height": 0
        },
        "id": "m4TiWPnx4-6B",
        "outputId": "4335b338-b9d4-4491-a1b4-aca4f7c16e06"
      },
      "execution_count": 19,
      "outputs": [
        {
          "output_type": "stream",
          "name": "stdout",
          "text": [
            "8585552006568828647 Hello World 2 4 Hello World\n",
            "8585552006568828647 Hello World 12 14 Hello WORLD\n",
            "8585552006568828647 Hello World 21 23 Hello World\n"
          ]
        }
      ]
    },
    {
      "cell_type": "code",
      "source": [
        "# Removing the patterns:\n",
        "matcher.remove('Hello World')"
      ],
      "metadata": {
        "id": "3lxDexwZ5UfY"
      },
      "execution_count": 20,
      "outputs": []
    },
    {
      "cell_type": "markdown",
      "source": [
        "# Setting pattern options and quantifiers"
      ],
      "metadata": {
        "id": "TOoj5nJH5ZQL"
      }
    },
    {
      "cell_type": "code",
      "source": [
        "# Redefine the patterns:\n",
        "pattern_3 = [{'LOWER', 'hello'}, {'LOWER': 'world'}]\n",
        "pattern_4 = [{'LOWER': 'hello'}, {'IS_PUNCT': True, 'OP':'*'}, {'LOWER': 'world'}]\n",
        "# 'OP':'*' ----> This is going to allow this pattern to match zero or more times for any punctuation\n",
        "\n",
        "# Add the new set of patterns to the 'Hello World' matcher:\n",
        "# matcher.add('Hello World', [pattern_3, pattern_4], on_match=None)\n",
        "matcher.add('Hello World', [pattern_3, pattern_4], on_match = None)"
      ],
      "metadata": {
        "colab": {
          "base_uri": "https://localhost:8080/",
          "height": 349
        },
        "id": "kxLIc7135Ykd",
        "outputId": "dcb2b043-afbb-48ad-bd85-5b9656e18580"
      },
      "execution_count": 32,
      "outputs": [
        {
          "output_type": "error",
          "ename": "MatchPatternError",
          "evalue": "ignored",
          "traceback": [
            "\u001b[0;31m---------------------------------------------------------------------------\u001b[0m",
            "\u001b[0;31mMatchPatternError\u001b[0m                         Traceback (most recent call last)",
            "\u001b[0;32m<ipython-input-32-5066286d1ae5>\u001b[0m in \u001b[0;36m<cell line: 9>\u001b[0;34m()\u001b[0m\n\u001b[1;32m      7\u001b[0m \u001b[0;31m# Add the new set of patterns to the 'Hello World' matcher:\u001b[0m\u001b[0;34m\u001b[0m\u001b[0;34m\u001b[0m\u001b[0m\n\u001b[1;32m      8\u001b[0m \u001b[0;31m# matcher.add('Hello World', [pattern_3, pattern_4], on_match=None)\u001b[0m\u001b[0;34m\u001b[0m\u001b[0;34m\u001b[0m\u001b[0m\n\u001b[0;32m----> 9\u001b[0;31m \u001b[0mmatcher\u001b[0m\u001b[0;34m.\u001b[0m\u001b[0madd\u001b[0m\u001b[0;34m(\u001b[0m\u001b[0;34m'Hello World'\u001b[0m\u001b[0;34m,\u001b[0m \u001b[0;34m[\u001b[0m\u001b[0mpattern_3\u001b[0m\u001b[0;34m,\u001b[0m \u001b[0mpattern_4\u001b[0m\u001b[0;34m]\u001b[0m\u001b[0;34m)\u001b[0m\u001b[0;34m\u001b[0m\u001b[0;34m\u001b[0m\u001b[0m\n\u001b[0m",
            "\u001b[0;32m/usr/local/lib/python3.10/dist-packages/spacy/matcher/matcher.pyx\u001b[0m in \u001b[0;36mspacy.matcher.matcher.Matcher.add\u001b[0;34m()\u001b[0m\n",
            "\u001b[0;31mMatchPatternError\u001b[0m: Invalid token patterns for matcher rule 'Hello World'\n\nPattern 0:\n- [pattern -> 0] value is not a valid dict\n\nPattern 1:\n\n"
          ]
        }
      ]
    },
    {
      "cell_type": "code",
      "source": [
        "pattern_0"
      ],
      "metadata": {
        "colab": {
          "base_uri": "https://localhost:8080/",
          "height": 175
        },
        "id": "yD74nC3b8XFu",
        "outputId": "a036276b-ff09-4c52-de35-0f884fe94ab4"
      },
      "execution_count": 31,
      "outputs": [
        {
          "output_type": "error",
          "ename": "NameError",
          "evalue": "ignored",
          "traceback": [
            "\u001b[0;31m---------------------------------------------------------------------------\u001b[0m",
            "\u001b[0;31mNameError\u001b[0m                                 Traceback (most recent call last)",
            "\u001b[0;32m<ipython-input-31-feb80ea62d5e>\u001b[0m in \u001b[0;36m<cell line: 1>\u001b[0;34m()\u001b[0m\n\u001b[0;32m----> 1\u001b[0;31m \u001b[0mpattern_0\u001b[0m\u001b[0;34m\u001b[0m\u001b[0;34m\u001b[0m\u001b[0m\n\u001b[0m",
            "\u001b[0;31mNameError\u001b[0m: name 'pattern_0' is not defined"
          ]
        }
      ]
    }
  ]
}